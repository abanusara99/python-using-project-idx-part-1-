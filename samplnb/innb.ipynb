{
 "cells": [
  {
   "cell_type": "code",
   "execution_count": 1,
   "id": "37883fb9-0842-4145-94a1-cc82f1418680",
   "metadata": {},
   "outputs": [
    {
     "name": "stdin",
     "output_type": "stream",
     "text": [
      "What is x value?  5\n"
     ]
    }
   ],
   "source": [
    "r = int(input(\"What is x value? \"))  # Convert input to integer"
   ]
  },
  {
   "cell_type": "code",
   "execution_count": 2,
   "id": "1312c283-1367-4fb4-ba81-46cf6e7d6cb9",
   "metadata": {},
   "outputs": [
    {
     "name": "stdin",
     "output_type": "stream",
     "text": [
      "What is y value?  7\n"
     ]
    }
   ],
   "source": [
    "k = int(input(\"What is y value? \"))  # Convert input to integer"
   ]
  },
  {
   "cell_type": "code",
   "execution_count": 5,
   "id": "993b449b-0608-4313-a55d-899ca0ebc340",
   "metadata": {},
   "outputs": [
    {
     "name": "stdout",
     "output_type": "stream",
     "text": [
      "A and B are  5 and 7 .\n"
     ]
    }
   ],
   "source": [
    "print(\"A and B are \", r, \"and\", k ,\".\")"
   ]
  },
  {
   "cell_type": "code",
   "execution_count": 10,
   "id": "0400e9af-b207-4d8e-b6ee-0e5db34a5047",
   "metadata": {},
   "outputs": [
    {
     "name": "stdout",
     "output_type": "stream",
     "text": [
      "\n",
      " Add value= 12\n",
      "\n",
      " Minus value -2\n"
     ]
    }
   ],
   "source": [
    "# Add\n",
    "c = r+k;\n",
    "print (\"\\n Add value=\", c)\n",
    "\n",
    "# Minus\n",
    "d= r-k;\n",
    "print(\"\\n Minus value\" , d)"
   ]
  },
  {
   "cell_type": "code",
   "execution_count": 13,
   "id": "72fb84bf-e817-4240-9ef6-36ea32c2d767",
   "metadata": {},
   "outputs": [
    {
     "name": "stdout",
     "output_type": "stream",
     "text": [
      "\n",
      " Multiple value 35\n",
      "\n",
      " divide value 0.7142857142857143\n"
     ]
    }
   ],
   "source": [
    "#Multiple \n",
    "e = r *k;\n",
    "print(\"\\n Multiple value\", e)\n",
    "\n",
    "# Divide\n",
    "f = r/k\n",
    "print (\"\\n divide value\", f)"
   ]
  },
  {
   "cell_type": "code",
   "execution_count": 15,
   "id": "307ba8c6-3861-4a03-bf0e-e98b4f56ac1e",
   "metadata": {},
   "outputs": [
    {
     "name": "stdout",
     "output_type": "stream",
     "text": [
      "Module value  5\n"
     ]
    }
   ],
   "source": [
    "g = r% k;\n",
    "print(\"Module value \", g)\n"
   ]
  },
  {
   "cell_type": "code",
   "execution_count": null,
   "id": "5e4e59c9-68ea-48de-a844-92d09625227e",
   "metadata": {},
   "outputs": [],
   "source": []
  }
 ],
 "metadata": {
  "kernelspec": {
   "display_name": "anaconda-panel-2023.05-py310",
   "language": "python",
   "name": "conda-env-anaconda-panel-2023.05-py310-py"
  },
  "language_info": {
   "codemirror_mode": {
    "name": "ipython",
    "version": 3
   },
   "file_extension": ".py",
   "mimetype": "text/x-python",
   "name": "python",
   "nbconvert_exporter": "python",
   "pygments_lexer": "ipython3",
   "version": "3.11.5"
  }
 },
 "nbformat": 4,
 "nbformat_minor": 5
}
