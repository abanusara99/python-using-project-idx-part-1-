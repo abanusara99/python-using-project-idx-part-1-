{
 "cells": [
  {
   "cell_type": "code",
   "execution_count": 1,
   "id": "70b5e603-766d-42ad-9e66-24a4b2f0c5ef",
   "metadata": {},
   "outputs": [
    {
     "name": "stdout",
     "output_type": "stream",
     "text": [
      "Hi || anaconda cloud\n"
     ]
    }
   ],
   "source": [
    "# print\n",
    "print(\"Hi || anaconda cloud\")"
   ]
  },
  {
   "cell_type": "code",
   "execution_count": 5,
   "id": "5333db26-1a05-4036-a5b3-3e0ceec4176f",
   "metadata": {},
   "outputs": [
    {
     "name": "stdout",
     "output_type": "stream",
     "text": [
      "A and B are  15 and 32 .\n"
     ]
    }
   ],
   "source": [
    "# Assigning variable with input\n",
    "a = 15;\n",
    "b = 32;\n",
    "\n",
    "print(\"A and B are \", a, \"and\", b ,\".\")"
   ]
  },
  {
   "cell_type": "code",
   "execution_count": 7,
   "id": "bdfb1df1-2959-42ce-844d-76b73b18b095",
   "metadata": {},
   "outputs": [
    {
     "name": "stdout",
     "output_type": "stream",
     "text": [
      "\n",
      " Add value= 47\n",
      "\n",
      " Minus value -17\n"
     ]
    }
   ],
   "source": [
    "# Add\n",
    "c = a+b;\n",
    "print (\"\\n Add value=\", c)\n",
    "\n",
    "# Minus\n",
    "d= a-b;\n",
    "print(\"\\n Minus value\" , d)\n",
    "\n"
   ]
  },
  {
   "cell_type": "code",
   "execution_count": 9,
   "id": "49361867-eb1b-4074-8a05-cf4c2f5155fc",
   "metadata": {},
   "outputs": [
    {
     "name": "stdout",
     "output_type": "stream",
     "text": [
      "\n",
      " Multiple value 480\n",
      "\n",
      " divide value 0.46875\n"
     ]
    }
   ],
   "source": [
    "#Multiple \n",
    "e = a *b;\n",
    "print(\"\\n Multiple value\", e)\n",
    "\n",
    "# Divide\n",
    "f = a/b\n",
    "print (\"\\n divide value\", f)"
   ]
  },
  {
   "cell_type": "markdown",
   "id": "a26a067c-dcb8-43a5-9fcb-a0553b820e91",
   "metadata": {},
   "source": [
    "# Module"
   ]
  },
  {
   "cell_type": "code",
   "execution_count": 12,
   "id": "f1773401-44e1-45bf-ac49-fabbf78e958d",
   "metadata": {},
   "outputs": [
    {
     "name": "stdout",
     "output_type": "stream",
     "text": [
      "Module value  15\n"
     ]
    }
   ],
   "source": [
    "g = a% b;\n",
    "print(\"Module value \", g)\n"
   ]
  },
  {
   "cell_type": "code",
   "execution_count": null,
   "id": "a6f5ba95-f3d6-4a7e-80b8-c81933f109e6",
   "metadata": {},
   "outputs": [],
   "source": []
  }
 ],
 "metadata": {
  "kernelspec": {
   "display_name": "anaconda-panel-2023.05-py310",
   "language": "python",
   "name": "conda-env-anaconda-panel-2023.05-py310-py"
  },
  "language_info": {
   "codemirror_mode": {
    "name": "ipython",
    "version": 3
   },
   "file_extension": ".py",
   "mimetype": "text/x-python",
   "name": "python",
   "nbconvert_exporter": "python",
   "pygments_lexer": "ipython3",
   "version": "3.11.5"
  }
 },
 "nbformat": 4,
 "nbformat_minor": 5
}
